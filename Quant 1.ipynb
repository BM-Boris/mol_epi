{
 "cells": [
  {
   "cell_type": "code",
   "execution_count": 43,
   "metadata": {},
   "outputs": [],
   "source": [
    "import pandas as pd\n",
    "import numpy as np\n",
    "import pyreadr\n",
    "import rpy2.robjects as robjects\n",
    "from rpy2.robjects.packages import importr\n",
    "from rpy2.robjects import pandas2ri\n",
    "import seaborn as sns\n",
    "import matplotlib.pyplot as plt\n",
    "import scipy.stats as sc\n",
    "from statsmodels.stats.power import TTestIndPower\n",
    "from rpy2.robjects.conversion import localconverter\n",
    "import math\n",
    "sns.set_theme()"
   ]
  },
  {
   "cell_type": "code",
   "execution_count": 44,
   "metadata": {},
   "outputs": [],
   "source": [
    "res = pyreadr.read_r('nh1516_pt1.rds')\n",
    "res2 = pyreadr.read_r('nh1516_pt2.rds')"
   ]
  },
  {
   "cell_type": "code",
   "execution_count": 45,
   "metadata": {},
   "outputs": [],
   "source": [
    "nh1516_pt1 = res[None]\n",
    "nh1516_pt2 = res2[None]"
   ]
  },
  {
   "cell_type": "code",
   "execution_count": 46,
   "metadata": {},
   "outputs": [],
   "source": [
    "df = nh1516_pt1"
   ]
  },
  {
   "cell_type": "markdown",
   "metadata": {},
   "source": [
    "## Part 1"
   ]
  },
  {
   "cell_type": "code",
   "execution_count": 47,
   "metadata": {},
   "outputs": [
    {
     "data": {
      "text/plain": [
       "array(['healthy', 'obesity', 'overweight', 'underweight'], dtype=object)"
      ]
     },
     "execution_count": 47,
     "metadata": {},
     "output_type": "execute_result"
    }
   ],
   "source": [
    "df['cdc'] = df['bmi'].apply(lambda x: \"underweight\" if 0<x<18.5 else\n",
    "                           \"healthy\" if 18.5<=x<25 else\n",
    "                            \"overweight\" if 25<=x<30 else\n",
    "                            \"obesity\" if 30<=x else None\n",
    "                           )\n",
    "df.cdc.unique()"
   ]
  },
  {
   "cell_type": "markdown",
   "metadata": {},
   "source": [
    "*Function to use sampling with R seed for three strategies:*"
   ]
  },
  {
   "cell_type": "code",
   "execution_count": 48,
   "metadata": {},
   "outputs": [],
   "source": [
    "def Sampling(df, seed, N, strategy):\n",
    "    with localconverter(robjects.default_converter + pandas2ri.converter):\n",
    "        r_from_pd_df = robjects.conversion.py2rpy(df)\n",
    "        r_from_pd_df\n",
    "        robjects.globalenv['r_from_pd_df'] = r_from_pd_df\n",
    "        robjects.globalenv['seed'] = seed\n",
    "        robjects.globalenv['N'] = N\n",
    "    if(strategy == 'a'):\n",
    "        data = robjects.r(\"\"\"\n",
    "        library(tidyverse)\n",
    "        set.seed(seed)\n",
    "        strat_a <- sample_n(r_from_pd_df, N)\n",
    "        \"\"\")\n",
    "    if(strategy == 'b'):\n",
    "        data = robjects.r(\"\"\"\n",
    "        library(tidyverse)\n",
    "        set.seed(seed)\n",
    "        strat_b1 <- r_from_pd_df %>% group_by(obesity_b) %>% sample_n(15)\n",
    "        \"\"\")\n",
    "    if(strategy == 'c'):\n",
    "        data = robjects.r(\"\"\"\n",
    "        library(tidyverse)\n",
    "        set.seed(seed)\n",
    "        strat_b1 <- r_from_pd_df %>% group_by(obesity_c) %>% sample_n(15)\n",
    "        \"\"\")\n",
    "        \n",
    "\n",
    "    with localconverter(robjects.default_converter + pandas2ri.converter):\n",
    "       r_df = robjects.conversion.rpy2py(data)\n",
    "    return r_df\n",
    "\n"
   ]
  },
  {
   "cell_type": "markdown",
   "metadata": {},
   "source": [
    "* Strategy A:"
   ]
  },
  {
   "cell_type": "code",
   "execution_count": 49,
   "metadata": {},
   "outputs": [
    {
     "name": "stdout",
     "output_type": "stream",
     "text": [
      "Seed 10032:\n",
      "N:\n",
      " obesity        15\n",
      "overweight      7\n",
      "healthy         7\n",
      "underweight     1\n",
      "Name: cdc, dtype: int64 \n",
      "Proportion: \n",
      " obesity        0.500000\n",
      "overweight     0.233333\n",
      "healthy        0.233333\n",
      "underweight    0.033333\n",
      "Name: cdc, dtype: float64\n",
      "Seed 10027:\n",
      "N:\n",
      " obesity        12\n",
      "healthy        10\n",
      "overweight      6\n",
      "underweight     2\n",
      "Name: cdc, dtype: int64 \n",
      "Proportion: \n",
      " obesity        0.400000\n",
      "healthy        0.333333\n",
      "overweight     0.200000\n",
      "underweight    0.066667\n",
      "Name: cdc, dtype: float64\n"
     ]
    }
   ],
   "source": [
    "strat_a1 = Sampling(df, 10032, 30, 'a').reset_index().drop('index',axis = 1)\n",
    "strat_a2 = Sampling(df, 10027, 30, 'a').reset_index().drop('index',axis = 1)\n",
    "n = strat_a1.shape[0]\n",
    "print('Seed 10032:\\n''N:\\n', strat_a1.cdc.value_counts(), '\\nProportion: \\n', strat_a1.cdc.value_counts()/n)\n",
    "print('Seed 10027:\\n''N:\\n', strat_a2.cdc.value_counts(), '\\nProportion: \\n', strat_a2.cdc.value_counts()/n)\n",
    "\n"
   ]
  },
  {
   "cell_type": "markdown",
   "metadata": {},
   "source": [
    "* Strategy B:"
   ]
  },
  {
   "cell_type": "code",
   "execution_count": 50,
   "metadata": {},
   "outputs": [
    {
     "name": "stdout",
     "output_type": "stream",
     "text": [
      "Seed 10032:\n",
      "N:\n",
      " obesity       15\n",
      "overweight    10\n",
      "healthy        5\n",
      "Name: cdc, dtype: int64 \n",
      "Proportion: \n",
      " obesity       0.500000\n",
      "overweight    0.333333\n",
      "healthy       0.166667\n",
      "Name: cdc, dtype: float64\n",
      "Seed 10027:\n",
      "N:\n",
      " obesity       15\n",
      "overweight     8\n",
      "healthy        7\n",
      "Name: cdc, dtype: int64 \n",
      "Proportion: \n",
      " obesity       0.500000\n",
      "overweight    0.266667\n",
      "healthy       0.233333\n",
      "Name: cdc, dtype: float64\n"
     ]
    }
   ],
   "source": [
    "df_b = df\n",
    "df_b['obesity_b'] = df['cdc'].apply(lambda x: \"obese\" if x == \"obesity\" else \"non-obese\")\n",
    "strat_b1 = Sampling(df_b, 10032, 15, 'b')\n",
    "strat_b2 = Sampling(df_b, 10027, 15, 'b')\n",
    "print('Seed 10032:\\n''N:\\n',\n",
    "      strat_b1.cdc.value_counts(),'\\nProportion: \\n', strat_b1.cdc.value_counts()/n)\n",
    "print('Seed 10027:\\n''N:\\n', strat_b2.cdc.value_counts(), '\\nProportion: \\n', strat_b2.cdc.value_counts()/n)\n",
    "\n"
   ]
  },
  {
   "cell_type": "markdown",
   "metadata": {},
   "source": [
    "* Strategy C:\n"
   ]
  },
  {
   "cell_type": "code",
   "execution_count": 51,
   "metadata": {},
   "outputs": [
    {
     "name": "stdout",
     "output_type": "stream",
     "text": [
      "Seed 10032:\n",
      "N:\n",
      " healthy    15\n",
      "obesity    15\n",
      "Name: cdc, dtype: int64 \n",
      "Proportion: \n",
      " healthy    0.5\n",
      "obesity    0.5\n",
      "Name: cdc, dtype: float64\n",
      "Seed 10027:\n",
      "N:\n",
      " healthy    15\n",
      "obesity    15\n",
      "Name: cdc, dtype: int64 \n",
      "Proportion: \n",
      " healthy    0.5\n",
      "obesity    0.5\n",
      "Name: cdc, dtype: float64\n"
     ]
    }
   ],
   "source": [
    "df_c = df\n",
    "df_c['obesity_c'] = df['cdc'].apply(lambda x: \"obese\" if x == \"obesity\" else\n",
    "                                    \"non-obese\" if x == 'healthy' else None)\n",
    "df_c = df_c[df_c.obesity_c.notna()]\n",
    "strat_c1 = Sampling(df_c, 10032, 15, 'c')\n",
    "strat_c2 = Sampling(df_c, 10027, 15, 'c')\n",
    "\n",
    "print('Seed 10032:\\n''N:\\n', strat_c1.cdc.value_counts(), \n",
    "      '\\nProportion: \\n', strat_c1.cdc.value_counts()/n)\n",
    "print('Seed 10027:\\n''N:\\n', strat_c2.cdc.value_counts(), '\\nProportion: \\n', strat_c2.cdc.value_counts()/n)\n",
    "\n"
   ]
  },
  {
   "cell_type": "markdown",
   "metadata": {},
   "source": [
    "## Part 2"
   ]
  },
  {
   "cell_type": "markdown",
   "metadata": {},
   "source": [
    "*Graphics:*"
   ]
  },
  {
   "cell_type": "code",
   "execution_count": 52,
   "metadata": {},
   "outputs": [
    {
     "data": {
      "text/plain": [
       "[Text(0.5, 1.0, 'Ln(Pfos)')]"
      ]
     },
     "execution_count": 52,
     "metadata": {},
     "output_type": "execute_result"
    },
    {
     "data": {
      "image/png": "[encoded data removed]",
      "text/plain": [
       "<Figure size 864x864 with 4 Axes>"
      ]
     },
     "metadata": {},
     "output_type": "display_data"
    }
   ],
   "source": [
    "df2 = nh1516_pt2\n",
    "f, axes = plt.subplots(2,2, figsize = (12,12))\n",
    "f.suptitle('Distribution:', fontsize=16)\n",
    "sns.histplot(data=df2,x = \"pfoa\", kde=True,ax = axes[0,0], bins = 40).set(title='Pfoa')\n",
    "df2['ln_pfoa'] = np.log(df2['pfoa'])\n",
    "sns.histplot(data=df2,x = \"ln_pfoa\", kde=True,ax = axes[0,1]).set(title='Ln(Pfoa)')\n",
    "sns.histplot(data=df2,x = \"pfos\", kde=True,ax = axes[1,0], bins = 40).set(title='Pfos')\n",
    "df2['ln_pfos'] = np.log(df2['pfos'])\n",
    "sns.histplot(data=df2,x = \"ln_pfos\", kde=True,ax = axes[1,1]).set(title='Ln(Pfos)')\n",
    "\n",
    "\n"
   ]
  },
  {
   "cell_type": "code",
   "execution_count": 53,
   "metadata": {},
   "outputs": [],
   "source": [
    "strat_ax1 = pd.merge(strat_a1 , df2 , on=\"SEQN\", how='inner')\n",
    "strat_ax2 = pd.merge(strat_a2 , df2 , on=\"SEQN\", how='inner')\n",
    "\n",
    "strat_bx1 = pd.merge(strat_b1 , df2 , on=\"SEQN\", how='inner')\n",
    "strat_bx2 = pd.merge(strat_b2 , df2 , on=\"SEQN\", how='inner')\n",
    "\n",
    "strat_cx1 = pd.merge(strat_c1 , df2 , on=\"SEQN\", how='inner')\n",
    "strat_cx2 = pd.merge(strat_c2 , df2 , on=\"SEQN\", how='inner')"
   ]
  },
  {
   "cell_type": "markdown",
   "metadata": {},
   "source": [
    "* Strategy A:"
   ]
  },
  {
   "cell_type": "code",
   "execution_count": 54,
   "metadata": {},
   "outputs": [
    {
     "name": "stdout",
     "output_type": "stream",
     "text": [
      "          ln_pfoa                                                  \n",
      "            count      mean       std       min       50%       max\n",
      "obesity_a                                                          \n",
      "non-obese    15.0  0.525239  0.767086 -0.693147  0.336472  2.442347\n",
      "obese        15.0  0.475411  0.546915 -0.916291  0.470004  1.360977\n",
      "          ln_pfos                                                  \n",
      "            count      mean       std       min       50%       max\n",
      "obesity_a                                                          \n",
      "non-obese    15.0  1.458197  0.967086 -0.356675  1.722767  3.693867\n",
      "obese        15.0  1.227461  0.656381  0.182322  1.308333  2.197225\n"
     ]
    }
   ],
   "source": [
    "#seed 10032\n",
    "strat_ax1['obesity_a'] = strat_ax1['cdc'].apply(lambda x: \"obese\" if x == \"obesity\" else \"non-obese\")\n",
    "print(strat_ax1.groupby('obesity_a').describe(percentiles=[])[['ln_pfoa']])\n",
    "print(strat_ax1.groupby('obesity_a').describe(percentiles=[])[['ln_pfos']])"
   ]
  },
  {
   "cell_type": "code",
   "execution_count": 55,
   "metadata": {},
   "outputs": [
    {
     "name": "stdout",
     "output_type": "stream",
     "text": [
      "          ln_pfoa                                                  \n",
      "            count      mean       std       min       50%       max\n",
      "obesity_a                                                          \n",
      "non-obese    18.0  0.137331  0.528617 -0.916291  0.091161  1.252763\n",
      "obese        12.0  0.144738  0.510900 -0.693147  0.131182  0.955511\n",
      "          ln_pfos                                                  \n",
      "            count      mean       std       min       50%       max\n",
      "obesity_a                                                          \n",
      "non-obese    18.0  0.894290  0.651967 -0.510826  0.765197  2.104134\n",
      "obese        12.0  1.316205  0.851948  0.262364  1.212844  3.401197\n"
     ]
    }
   ],
   "source": [
    "#seed 10027\n",
    "strat_ax2['obesity_a'] = strat_ax2['cdc'].apply(lambda x: \"obese\" if x == \"obesity\" else \"non-obese\")\n",
    "print(strat_ax2.groupby('obesity_a').describe(percentiles=[])[['ln_pfoa']])\n",
    "print(strat_ax2.groupby('obesity_a').describe(percentiles=[])[['ln_pfos']])"
   ]
  },
  {
   "cell_type": "markdown",
   "metadata": {},
   "source": [
    "* Strategy B:"
   ]
  },
  {
   "cell_type": "code",
   "execution_count": 56,
   "metadata": {},
   "outputs": [
    {
     "name": "stdout",
     "output_type": "stream",
     "text": [
      "          ln_pfoa                                                  \n",
      "            count      mean       std       min       50%       max\n",
      "obesity_b                                                          \n",
      "non-obese    15.0  0.448677  0.614215 -0.510826  0.470004  1.740466\n",
      "obese        15.0  0.105097  0.662040 -1.203973  0.336472  0.916291\n",
      "          ln_pfos                                                  \n",
      "            count      mean       std       min       50%       max\n",
      "obesity_b                                                          \n",
      "non-obese    15.0  1.207703  0.889624  0.000000  1.131402  2.631889\n",
      "obese        15.0  0.725036  0.893593 -1.203973  1.064711  1.589235\n"
     ]
    }
   ],
   "source": [
    "#seed 10032\n",
    "print(strat_bx1.groupby('obesity_b').describe(percentiles=[])[['ln_pfoa']])\n",
    "print(strat_bx1.groupby('obesity_b').describe(percentiles=[])[['ln_pfos']])"
   ]
  },
  {
   "cell_type": "markdown",
   "metadata": {},
   "source": [
    "*Function to use ttest:*"
   ]
  },
  {
   "cell_type": "code",
   "execution_count": 57,
   "metadata": {},
   "outputs": [],
   "source": [
    "def ttest(df, pf):\n",
    "    return sc.ttest_ind(df[df.obesity_b == 'obese'][pf], df[df.obesity_b == 'non-obese'][pf], \n",
    "                    equal_var=False)"
   ]
  },
  {
   "cell_type": "code",
   "execution_count": 58,
   "metadata": {},
   "outputs": [
    {
     "name": "stdout",
     "output_type": "stream",
     "text": [
      "ln PFOA: obese = non-obese\n",
      " Ttest_indResult(statistic=-1.4734896685028025, pvalue=0.1518352845837224)\n",
      "ln PFOA: obese = non-obese\n",
      " Ttest_indResult(statistic=-1.4825292742619631, pvalue=0.14936841853949354)\n"
     ]
    }
   ],
   "source": [
    "print('ln PFOA: obese = non-obese\\n',ttest(strat_bx1,'ln_pfoa'))\n",
    "print('ln PFOA: obese = non-obese\\n',ttest(strat_bx1,'ln_pfos'))"
   ]
  },
  {
   "cell_type": "code",
   "execution_count": 59,
   "metadata": {},
   "outputs": [
    {
     "name": "stdout",
     "output_type": "stream",
     "text": [
      "          ln_pfoa                                                  \n",
      "            count      mean       std       min       50%       max\n",
      "obesity_b                                                          \n",
      "non-obese    15.0  0.614563  0.724543 -0.916291  0.470004  1.791759\n",
      "obese        15.0  0.155545  0.626003 -0.916291  0.000000  1.064711\n",
      "          ln_pfos                                                  \n",
      "            count      mean       std       min       50%       max\n",
      "obesity_b                                                          \n",
      "non-obese    15.0  1.353713  0.690900  0.095310  1.481605  2.884801\n",
      "obese        15.0  0.811140  0.703677 -0.693147  0.955511  2.079442\n"
     ]
    }
   ],
   "source": [
    "#seed 10027\n",
    "print(strat_bx2.groupby('obesity_b').describe(percentiles=[])[['ln_pfoa']])\n",
    "print(strat_bx2.groupby('obesity_b').describe(percentiles=[])[['ln_pfos']])"
   ]
  },
  {
   "cell_type": "code",
   "execution_count": 60,
   "metadata": {},
   "outputs": [
    {
     "name": "stdout",
     "output_type": "stream",
     "text": [
      "ln PFOA: obese = non-obese\n",
      " Ttest_indResult(statistic=-1.8566392966877143, pvalue=0.0741362927241831)\n",
      "ln PFOA: obese = non-obese\n",
      " Ttest_indResult(statistic=-2.1308760331140904, pvalue=0.04202150804854974)\n"
     ]
    }
   ],
   "source": [
    "print('ln PFOA: obese = non-obese\\n',ttest(strat_bx2,'ln_pfoa'))\n",
    "print('ln PFOA: obese = non-obese\\n',ttest(strat_bx2,'ln_pfos'))"
   ]
  },
  {
   "cell_type": "markdown",
   "metadata": {},
   "source": [
    "* Strategy C:"
   ]
  },
  {
   "cell_type": "code",
   "execution_count": 61,
   "metadata": {},
   "outputs": [
    {
     "name": "stdout",
     "output_type": "stream",
     "text": [
      "          ln_pfoa                                                  \n",
      "            count      mean       std       min       50%       max\n",
      "obesity_b                                                          \n",
      "non-obese    15.0  0.435385  0.569236 -0.510826  0.587787  1.360977\n",
      "obese        15.0  0.228850  0.675527 -1.203973  0.336472  1.163151\n",
      "          ln_pfos                                                  \n",
      "            count      mean       std       min       50%       max\n",
      "obesity_b                                                          \n",
      "non-obese    15.0  1.331699  1.277253 -1.609438  1.064711  3.613617\n",
      "obese        15.0  0.778813  0.937191 -1.203973  1.064711  2.054124\n"
     ]
    }
   ],
   "source": [
    "#seed 10032\n",
    "print(strat_cx1.groupby('obesity_b').describe(percentiles=[])[['ln_pfoa']])\n",
    "print(strat_cx1.groupby('obesity_b').describe(percentiles=[])[['ln_pfos']])"
   ]
  },
  {
   "cell_type": "code",
   "execution_count": 62,
   "metadata": {},
   "outputs": [
    {
     "name": "stdout",
     "output_type": "stream",
     "text": [
      "ln PFOA: obese = non-obese\n",
      " Ttest_indResult(statistic=-0.9055017412118205, pvalue=0.3731460202111958)\n",
      "ln PFOA: obese = non-obese\n",
      " Ttest_indResult(statistic=-1.3516679982524666, pvalue=0.18826519974402678)\n"
     ]
    }
   ],
   "source": [
    "print('ln PFOA: obese = non-obese\\n',ttest(strat_cx1,'ln_pfoa'))\n",
    "print('ln PFOA: obese = non-obese\\n',ttest(strat_cx1,'ln_pfos'))"
   ]
  },
  {
   "cell_type": "code",
   "execution_count": 63,
   "metadata": {},
   "outputs": [
    {
     "name": "stdout",
     "output_type": "stream",
     "text": [
      "          ln_pfoa                                                 \n",
      "            count     mean       std       min       50%       max\n",
      "obesity_b                                                         \n",
      "non-obese    15.0  0.53866  0.823473 -0.693147  0.405465  2.442347\n",
      "obese        15.0  0.28135  0.632843 -0.916291  0.405465  1.193922\n",
      "          ln_pfos                                                  \n",
      "            count      mean       std       min       50%       max\n",
      "obesity_b                                                          \n",
      "non-obese    15.0  1.392696  0.501794  0.530628  1.410987  2.415914\n",
      "obese        15.0  0.954591  0.584315  0.095310  0.993252  2.079442\n"
     ]
    }
   ],
   "source": [
    "#seed 10027\n",
    "print(strat_cx2.groupby('obesity_b').describe(percentiles=[])[['ln_pfoa']])\n",
    "print(strat_cx2.groupby('obesity_b').describe(percentiles=[])[['ln_pfos']])"
   ]
  },
  {
   "cell_type": "code",
   "execution_count": 64,
   "metadata": {},
   "outputs": [
    {
     "name": "stdout",
     "output_type": "stream",
     "text": [
      "ln PFOA: obese = non-obese\n",
      " Ttest_indResult(statistic=-0.959558661438425, pvalue=0.3460296100506619)\n",
      "ln PFOA: obese = non-obese\n",
      " Ttest_indResult(statistic=-2.203003714241487, pvalue=0.03618842346658801)\n"
     ]
    }
   ],
   "source": [
    "print('ln PFOA: obese = non-obese\\n',ttest(strat_cx2,'ln_pfoa'))\n",
    "print('ln PFOA: obese = non-obese\\n',ttest(strat_cx2,'ln_pfos'))"
   ]
  },
  {
   "cell_type": "markdown",
   "metadata": {},
   "source": [
    "*Function to calculate the sample size:*"
   ]
  },
  {
   "cell_type": "code",
   "execution_count": 65,
   "metadata": {},
   "outputs": [],
   "source": [
    "def Size(df,pf, strategy = 'b'):\n",
    "    if(strategy != 'a'):\n",
    "        ob = df[df.obesity_b == 'obese'][pf]\n",
    "        no = df[df.obesity_b == 'non-obese'][pf]\n",
    "    else:\n",
    "        ob = df[df.obesity_a == 'obese'][pf]\n",
    "        no = df[df.obesity_a == 'non-obese'][pf]\n",
    "\n",
    "    pool = np.sqrt((ob.std()**2 + no.std()**2)/2)\n",
    "    effect_size = (ob.mean() - no.mean()) / pool\n",
    "    sample_size = TTestIndPower().solve_power(effect_size, alpha = 0.05, power = 0.8, alternative = 'two-sided')\n",
    "    return math.ceil(sample_size)"
   ]
  },
  {
   "cell_type": "code",
   "execution_count": 66,
   "metadata": {},
   "outputs": [
    {
     "name": "stdout",
     "output_type": "stream",
     "text": [
      "Sample Size\n",
      " Seed 10032\n",
      " Str.A Ln PHOA: 2807 \n",
      " Str.A Ln PHOS: 203 \n",
      " Str.B Ln PHOS: 56 \n",
      " Str.B Ln PHOS: 55 \n",
      " Str.C Ln PHOS: 145 \n",
      " Str.C Ln PHOS: 66 \n",
      "\n"
     ]
    }
   ],
   "source": [
    "#seed 10032\n",
    "print(\"Sample Size\\n\",\"Seed 10032\\n\", \"Str.A Ln PHOA:\", Size(strat_ax1,'ln_pfoa','a'),\"\\n\",\n",
    "                                                    \"Str.A Ln PHOS:\", Size(strat_ax1,'ln_pfos','a'),\"\\n\",\n",
    "                                                    \"Str.B Ln PHOS:\", Size(strat_bx1,'ln_pfoa'),\"\\n\",\n",
    "                                                  \"Str.B Ln PHOS:\", Size(strat_bx1,'ln_pfos'),\"\\n\",\n",
    "                                                  \"Str.C Ln PHOS:\", Size(strat_cx1,'ln_pfoa'),\"\\n\",\n",
    "                                                  \"Str.C Ln PHOS:\", Size(strat_cx1,'ln_pfos'),\"\\n\")\n",
    "\n"
   ]
  },
  {
   "cell_type": "code",
   "execution_count": 67,
   "metadata": {},
   "outputs": [
    {
     "name": "stdout",
     "output_type": "stream",
     "text": [
      "Sample Size\n",
      " Seed 10032\n",
      " Str.A Ln PHOA: 77317 \n",
      " Str.A Ln PHOS: 52 \n",
      " Str.B Ln PHOS: 36 \n",
      " Str.B Ln PHOS: 27 \n",
      " Str.C Ln PHOS: 129 \n",
      " Str.C Ln PHOS: 26 \n",
      "\n"
     ]
    }
   ],
   "source": [
    "#seed 10027\n",
    "print(\"Sample Size\\n\",\"Seed 10032\\n\", \"Str.A Ln PHOA:\", Size(strat_ax2,'ln_pfoa','a'),\"\\n\",\n",
    "                                                    \"Str.A Ln PHOS:\", Size(strat_ax2,'ln_pfos','a'),\"\\n\",\n",
    "                                                    \"Str.B Ln PHOS:\", Size(strat_bx2,'ln_pfoa'),\"\\n\",\n",
    "                                                  \"Str.B Ln PHOS:\", Size(strat_bx2,'ln_pfos'),\"\\n\",\n",
    "                                                  \"Str.C Ln PHOS:\", Size(strat_cx2,'ln_pfoa'),\"\\n\",\n",
    "                                                  \"Str.C Ln PHOS:\", Size(strat_cx2,'ln_pfos'),\"\\n\")\n",
    "\n",
    "\n"
   ]
  }
 ],
 "metadata": {
  "kernelspec": {
   "display_name": "Python 3 (ipykernel)",
   "language": "python",
   "name": "python3"
  },
  "language_info": {
   "codemirror_mode": {
    "name": "ipython",
    "version": 3
   },
   "file_extension": ".py",
   "mimetype": "text/x-python",
   "name": "python",
   "nbconvert_exporter": "python",
   "pygments_lexer": "ipython3",
   "version": "3.10.6"
  }
 },
 "nbformat": 4,
 "nbformat_minor": 4
}
